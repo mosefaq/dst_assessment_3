{
 "cells": [
  {
   "cell_type": "code",
   "execution_count": 200,
   "id": "3569c2a4-1fed-4cf3-af61-6f21c211721b",
   "metadata": {},
   "outputs": [],
   "source": [
    "import pandas as pd\n",
    "import numpy as np\n",
    "from gensim.models import HdpModel\n",
    "from gensim import corpora\n",
    "from sklearn.model_selection import KFold\n",
    "from sklearn.ensemble import RandomForestClassifier\n",
    "from sklearn.metrics import matthews_corrcoef, ConfusionMatrixDisplay, accuracy_score, RocCurveDisplay"
   ]
  },
  {
   "cell_type": "code",
   "execution_count": 22,
   "id": "ed348e87-c9c3-4a76-bd77-c9f4dc0e1c9d",
   "metadata": {},
   "outputs": [],
   "source": [
    "converter = lambda x: list(map(lambda y: y.strip(\"'\"), x.strip(\"[]\").split(\", \")))\n",
    "data = pd.read_csv('data/data.csv', converters={\"Email\" : converter, \"Lemmatized\" : converter}, index_col=0)"
   ]
  },
  {
   "cell_type": "code",
   "execution_count": 188,
   "id": "72a96faf-001f-4bb5-ab8d-4a5b340578d4",
   "metadata": {},
   "outputs": [],
   "source": [
    "def distarray(dist, numtopics):\n",
    "    array = np.zeros((len(dist), numtopics))\n",
    "    for i in range(len(dist)):\n",
    "        for pair in dist[i]:\n",
    "            topic, prob = pair\n",
    "            array[i, topic] = prob\n",
    "    return array\n",
    "\n",
    "kf = KFold(n_splits=10, shuffle=True, random_state=63) # a specific random state is chosen for reproducibility only\n",
    "folds = list(kf.split(data))\n",
    "\n",
    "# non-lemmatized version\n",
    "bestmcc = 0\n",
    "i = 0\n",
    "for fold in folds:\n",
    "    train, test = fold\n",
    "    traindata = data.loc[train]\n",
    "    testdata = data.loc[test]\n",
    "    dictionary = corpora.Dictionary(traindata.Email)\n",
    "    traincorpus = list(map(dictionary.doc2bow, traindata.Email))\n",
    "    testcorpus = list(map(dictionary.doc2bow, testdata.Email))\n",
    "    hdp = HdpModel(traincorpus, dictionary)\n",
    "    traindist = list(hdp[traincorpus])\n",
    "    testdist = list(hdp[testcorpus])\n",
    "    numtopics = len(hdp.get_topics())\n",
    "    trainarray = distarray(traindist, numtopics)\n",
    "    testarray = distarray(testdist, numtopics)\n",
    "    rf = RandomForestClassifier(random_state=63)\n",
    "    rf = rf.fit(trainarray, traindata.Spam)\n",
    "    testresults = rf.predict(testarray)\n",
    "    trueresults = list(testdata.Spam)\n",
    "    mcc = matthews_corrcoef(trueresults, testresults)\n",
    "    if mcc > bestmcc:\n",
    "        bestmcc = mcc\n",
    "        model = hdp\n",
    "        classifier = rf\n",
    "        bestsplit = i\n",
    "    i += 1"
   ]
  },
  {
   "cell_type": "code",
   "execution_count": null,
   "id": "ce4e80aa-be74-4f47-9cda-87a5a9d9fbae",
   "metadata": {},
   "outputs": [],
   "source": []
  }
 ],
 "metadata": {
  "kernelspec": {
   "display_name": "Python 3 (ipykernel)",
   "language": "python",
   "name": "python3"
  },
  "language_info": {
   "codemirror_mode": {
    "name": "ipython",
    "version": 3
   },
   "file_extension": ".py",
   "mimetype": "text/x-python",
   "name": "python",
   "nbconvert_exporter": "python",
   "pygments_lexer": "ipython3",
   "version": "3.9.7"
  }
 },
 "nbformat": 4,
 "nbformat_minor": 5
}
