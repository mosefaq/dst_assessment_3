{
 "cells": [
  {
   "cell_type": "code",
   "execution_count": 1,
   "id": "c5cf0e97-f7ae-47e2-bc9b-6cb684e79732",
   "metadata": {},
   "outputs": [],
   "source": [
    "from google_drive_downloader import GoogleDriveDownloader as gdd"
   ]
  },
  {
   "cell_type": "markdown",
   "id": "18a8e2f4-4f08-4df1-8c0a-567c433966f1",
   "metadata": {},
   "source": [
    "This very small notebook downloads the processed data from my Google Drive, in case you don't want to run the data processing notebook yourself."
   ]
  },
  {
   "cell_type": "code",
   "execution_count": 4,
   "id": "294194b8-0c5a-4b6b-8680-f9e8c3752deb",
   "metadata": {},
   "outputs": [
    {
     "name": "stdout",
     "output_type": "stream",
     "text": [
      "Downloading 1qCvwiXAa88PwoAqoGqJ-bZadqruMOoFy into ./data/data2.csv... Done.\n"
     ]
    }
   ],
   "source": [
    "gdd.download_file_from_google_drive(file_id='1qCvwiXAa88PwoAqoGqJ-bZadqruMOoFy',\n",
    "                                    dest_path='../data/data.csv')"
   ]
  },
  {
   "cell_type": "code",
   "execution_count": null,
   "id": "1c979f15-5185-452d-a2ad-366529d74dd8",
   "metadata": {},
   "outputs": [],
   "source": []
  }
 ],
 "metadata": {
  "kernelspec": {
   "display_name": "Python 3 (ipykernel)",
   "language": "python",
   "name": "python3"
  },
  "language_info": {
   "codemirror_mode": {
    "name": "ipython",
    "version": 3
   },
   "file_extension": ".py",
   "mimetype": "text/x-python",
   "name": "python",
   "nbconvert_exporter": "python",
   "pygments_lexer": "ipython3",
   "version": "3.9.7"
  }
 },
 "nbformat": 4,
 "nbformat_minor": 5
}
